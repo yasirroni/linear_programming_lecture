{
  "cells": [
    {
      "cell_type": "code",
      "execution_count": 1,
      "metadata": {
        "id": "a7Go30ZoLbWO"
      },
      "outputs": [],
      "source": [
        "import cvxpy as cp\n",
        "import numpy as np"
      ]
    },
    {
      "cell_type": "code",
      "execution_count": 2,
      "metadata": {
        "id": "yhKhB1oWLbWQ"
      },
      "outputs": [],
      "source": [
        "def check_solution(x, y, A, rhs):\n",
        "    for A_, rhs_ in zip(A, rhs):\n",
        "        if A_(x, y) > rhs_:\n",
        "            print(f\"Constraint is violated with value {A_(x, y)} > {rhs_}.\")\n",
        "        else:\n",
        "            print(f\"Constraint is satisfied with value {A_(x, y)} <= {rhs_}.\")"
      ]
    },
    {
      "cell_type": "markdown",
      "metadata": {
        "id": "FSoJr4eOLbWQ"
      },
      "source": [
        "# Linear Programming"
      ]
    },
    {
      "cell_type": "code",
      "source": [
        "# Define the decision variables\n",
        "x = cp.Variable(nonneg=True)  # x >= 0\n",
        "y = cp.Variable(nonneg=True)  # y >= 0"
      ],
      "metadata": {
        "id": "8NLDLhKqcmpw"
      },
      "execution_count": 3,
      "outputs": []
    },
    {
      "cell_type": "code",
      "source": [
        "# z = cp.Variable(5, nonneg=True)"
      ],
      "metadata": {
        "id": "A-y9DM6Vcnlr"
      },
      "execution_count": 4,
      "outputs": []
    },
    {
      "cell_type": "code",
      "source": [
        "# 5*x, x**2, -cp.sqrt(x), x**2/x, cp.max(z), cp.mean(z)"
      ],
      "metadata": {
        "id": "ebcga1L1c2VE"
      },
      "execution_count": 5,
      "outputs": []
    },
    {
      "cell_type": "code",
      "execution_count": 6,
      "metadata": {
        "id": "uLzBZ2onLbWQ",
        "outputId": "00e99d28-fd35-4c70-d176-512dcf9463bc",
        "colab": {
          "base_uri": "https://localhost:8080/"
        }
      },
      "outputs": [
        {
          "output_type": "stream",
          "name": "stdout",
          "text": [
            "Optimal solution: x = 4.2857142829410995 , y = 7.142857144661429\n",
            "Optimal value: 264.2857142753577\n"
          ]
        }
      ],
      "source": [
        "# Define the decision variables\n",
        "x = cp.Variable(nonneg=True)  # x >= 0\n",
        "y = cp.Variable(nonneg=True)  # y >= 0\n",
        "\n",
        "# Define the objective function\n",
        "objective = cp.Maximize(20*x + 25*y)\n",
        "\n",
        "# Define the constraints\n",
        "constraints = [\n",
        "    2*x + 3*y <= 30,\n",
        "    3*x + 1*y <= 20,\n",
        "]\n",
        "\n",
        "# Define and solve the problem\n",
        "problem = cp.Problem(objective, constraints)\n",
        "problem.solve()\n",
        "\n",
        "# Print the optimal solution and optimal value\n",
        "print(\"Optimal solution: x =\", x.value, \", y =\", y.value)\n",
        "print(\"Optimal value:\", problem.value)"
      ]
    },
    {
      "cell_type": "code",
      "execution_count": 7,
      "metadata": {
        "id": "WA7PIwFPLbWR",
        "outputId": "5f43ace3-c142-4fd8-dc48-97dfd447dce7",
        "colab": {
          "base_uri": "https://localhost:8080/"
        }
      },
      "outputs": [
        {
          "output_type": "stream",
          "name": "stdout",
          "text": [
            "Constraint is satisfied with value 29.99999999986649 <= 30.\n",
            "Constraint is satisfied with value 19.999999993484728 <= 20.\n"
          ]
        }
      ],
      "source": [
        "# Define the constraints\n",
        "A = [\n",
        "    lambda x, y: 2*x + 3*y,\n",
        "    lambda x, y: 3*x + 1*y,\n",
        "]\n",
        "\n",
        "rhs = [\n",
        "    30,\n",
        "    20,\n",
        "]\n",
        "\n",
        "check_solution(x.value, y.value, A, rhs)"
      ]
    },
    {
      "cell_type": "code",
      "source": [
        "constraints[0].dual_value, constraints[1].dual_value"
      ],
      "metadata": {
        "id": "NvadZNtVC-v1",
        "outputId": "0bb24fd2-7adc-4bc6-d45c-eadc35ba435e",
        "colab": {
          "base_uri": "https://localhost:8080/"
        }
      },
      "execution_count": 8,
      "outputs": [
        {
          "output_type": "execute_result",
          "data": {
            "text/plain": [
              "(7.857142857545608, 1.4285714288297986)"
            ]
          },
          "metadata": {},
          "execution_count": 8
        }
      ]
    },
    {
      "cell_type": "code",
      "source": [
        "x.value, y.value"
      ],
      "metadata": {
        "id": "2m3ryepfDTDb",
        "outputId": "65ab568b-276b-4897-9df0-175fc3d6d12d",
        "colab": {
          "base_uri": "https://localhost:8080/"
        }
      },
      "execution_count": 9,
      "outputs": [
        {
          "output_type": "execute_result",
          "data": {
            "text/plain": [
              "(4.2857142829410995, 7.142857144661429)"
            ]
          },
          "metadata": {},
          "execution_count": 9
        }
      ]
    },
    {
      "cell_type": "markdown",
      "metadata": {
        "id": "PtFd-ltmLbWR"
      },
      "source": [
        "# Integer Programming"
      ]
    },
    {
      "cell_type": "code",
      "execution_count": 10,
      "metadata": {
        "id": "_JSKWx4MLbWR",
        "outputId": "1d8c13d7-1adb-4a5c-a881-95dfa620e810",
        "colab": {
          "base_uri": "https://localhost:8080/"
        }
      },
      "outputs": [
        {
          "output_type": "stream",
          "name": "stdout",
          "text": [
            "Optimal solution: x = 3.0 , y = 8.0\n",
            "Optimal value: 260.0\n"
          ]
        }
      ],
      "source": [
        "# Define the decision variables\n",
        "x = cp.Variable(integer=True)\n",
        "y = cp.Variable(integer=True)\n",
        "\n",
        "# Define the objective function\n",
        "objective = cp.Maximize(20*x + 25*y)\n",
        "\n",
        "# Define the constraints\n",
        "constraints = [\n",
        "    2*x + 3*y <= 30,\n",
        "    3*x + 1*y <= 20,\n",
        "    x >= 0,  # x >= 0\n",
        "    y >= 0,  # y >= 0\n",
        "]\n",
        "\n",
        "# Define and solve the problem\n",
        "problem = cp.Problem(objective, constraints)\n",
        "problem.solve()\n",
        "\n",
        "# Print the optimal solution and optimal value\n",
        "print(\"Optimal solution: x =\", x.value, \", y =\", y.value)\n",
        "print(\"Optimal value:\", problem.value)"
      ]
    },
    {
      "cell_type": "code",
      "execution_count": 11,
      "metadata": {
        "id": "wIqs2NQKLbWR",
        "outputId": "0971bb80-080d-4e5c-c95c-e394d9de9a6b",
        "colab": {
          "base_uri": "https://localhost:8080/"
        }
      },
      "outputs": [
        {
          "output_type": "stream",
          "name": "stdout",
          "text": [
            "Constraint is satisfied with value 30.0 <= 30.\n",
            "Constraint is satisfied with value 17.0 <= 20.\n"
          ]
        }
      ],
      "source": [
        "# Define the constraints\n",
        "A = [\n",
        "    lambda x, y: 2*x + 3*y,\n",
        "    lambda x, y: 3*x + 1*y,\n",
        "]\n",
        "\n",
        "rhs = [\n",
        "    30,\n",
        "    20,\n",
        "]\n",
        "\n",
        "check_solution(x.value, y.value, A, rhs)"
      ]
    },
    {
      "cell_type": "code",
      "source": [
        "constraints[0].dual_value, constraints[1].dual_value"
      ],
      "metadata": {
        "id": "gYbEkU10DEZ9",
        "outputId": "f5b5ba16-e753-4423-ac13-40ebc835af01",
        "colab": {
          "base_uri": "https://localhost:8080/"
        }
      },
      "execution_count": 12,
      "outputs": [
        {
          "output_type": "execute_result",
          "data": {
            "text/plain": [
              "(None, None)"
            ]
          },
          "metadata": {},
          "execution_count": 12
        }
      ]
    },
    {
      "cell_type": "code",
      "source": [
        "x.value, y.value"
      ],
      "metadata": {
        "id": "ydUtNWnuDRBm",
        "outputId": "cf7cb21d-8ebb-4197-d3d1-d6180ed63b02",
        "colab": {
          "base_uri": "https://localhost:8080/"
        }
      },
      "execution_count": 13,
      "outputs": [
        {
          "output_type": "execute_result",
          "data": {
            "text/plain": [
              "(array(3.), array(8.))"
            ]
          },
          "metadata": {},
          "execution_count": 13
        }
      ]
    },
    {
      "cell_type": "markdown",
      "source": [
        "# Vector Form"
      ],
      "metadata": {
        "id": "705dp-p1Cqd2"
      }
    },
    {
      "cell_type": "code",
      "source": [
        "# Define the decision variables\n",
        "x = cp.Variable((2, 1), integer=True)\n",
        "x"
      ],
      "metadata": {
        "id": "6pw-kBOJg3tU",
        "outputId": "7535b637-d61c-443f-c008-de360e004df0",
        "colab": {
          "base_uri": "https://localhost:8080/"
        }
      },
      "execution_count": 14,
      "outputs": [
        {
          "output_type": "execute_result",
          "data": {
            "text/plain": [
              "Variable((2, 1), var147, integer=True)"
            ]
          },
          "metadata": {},
          "execution_count": 14
        }
      ]
    },
    {
      "cell_type": "code",
      "source": [
        "c = np.array([[20, 25]])\n",
        "c, c.shape"
      ],
      "metadata": {
        "id": "bJZOidMog_8t",
        "outputId": "04171eb8-f606-41b6-d241-d37e3728b8fe",
        "colab": {
          "base_uri": "https://localhost:8080/"
        }
      },
      "execution_count": 15,
      "outputs": [
        {
          "output_type": "execute_result",
          "data": {
            "text/plain": [
              "(array([[20, 25]]), (1, 2))"
            ]
          },
          "metadata": {},
          "execution_count": 15
        }
      ]
    },
    {
      "cell_type": "code",
      "source": [
        "# Define the objective function\n",
        "objective = cp.Maximize(c @ x)\n",
        "objective"
      ],
      "metadata": {
        "id": "-Lnh9lNNhLp5",
        "outputId": "9028bc09-acc4-472a-b081-f2f105fa7f8d",
        "colab": {
          "base_uri": "https://localhost:8080/"
        }
      },
      "execution_count": 16,
      "outputs": [
        {
          "output_type": "execute_result",
          "data": {
            "text/plain": [
              "Maximize(Expression(AFFINE, UNKNOWN, (1, 1)))"
            ]
          },
          "metadata": {},
          "execution_count": 16
        }
      ]
    },
    {
      "cell_type": "code",
      "source": [
        "A = np.array([\n",
        "    [2, 3],\n",
        "    [3, 1],\n",
        "])\n",
        "b = np.array(\n",
        "    [\n",
        "        [30],\n",
        "        [20]\n",
        "    ]\n",
        ")\n",
        "A @ x, b, A @ x <= b"
      ],
      "metadata": {
        "id": "p_BbDU1whjtW",
        "outputId": "d6819dd2-4649-41af-e826-358b4b0cb328",
        "colab": {
          "base_uri": "https://localhost:8080/"
        }
      },
      "execution_count": 17,
      "outputs": [
        {
          "output_type": "execute_result",
          "data": {
            "text/plain": [
              "(Expression(AFFINE, UNKNOWN, (2, 1)),\n",
              " array([[30],\n",
              "        [20]]),\n",
              " Inequality(Expression(AFFINE, UNKNOWN, (2, 1))))"
            ]
          },
          "metadata": {},
          "execution_count": 17
        }
      ]
    },
    {
      "cell_type": "code",
      "execution_count": 18,
      "metadata": {
        "id": "bTpETw9_LbWS",
        "outputId": "90713d4c-f4a7-4a03-8d89-fe6fc1946942",
        "colab": {
          "base_uri": "https://localhost:8080/"
        }
      },
      "outputs": [
        {
          "output_type": "stream",
          "name": "stdout",
          "text": [
            "Optimal solution: x = [[3.]\n",
            " [8.]] , y = 8.0\n",
            "Optimal value: 260.0\n"
          ]
        }
      ],
      "source": [
        "# Define the constraints\n",
        "constraints = [\n",
        "    A @ x <= b,\n",
        "    x >= 0,  # x >= 0\n",
        "]\n",
        "\n",
        "# Define and solve the problem\n",
        "problem = cp.Problem(objective, constraints)\n",
        "problem.solve()\n",
        "\n",
        "# Print the optimal solution and optimal value\n",
        "print(\"Optimal solution: x =\", x.value, \", y =\", y.value)\n",
        "print(\"Optimal value:\", problem.value)"
      ]
    },
    {
      "cell_type": "code",
      "source": [
        "x.value"
      ],
      "metadata": {
        "id": "JWZ3q52kiLaz",
        "outputId": "ab7470a5-51d5-4e4d-f214-84a1101ab8a1",
        "colab": {
          "base_uri": "https://localhost:8080/"
        }
      },
      "execution_count": 19,
      "outputs": [
        {
          "output_type": "execute_result",
          "data": {
            "text/plain": [
              "array([[3.],\n",
              "       [8.]])"
            ]
          },
          "metadata": {},
          "execution_count": 19
        }
      ]
    },
    {
      "cell_type": "code",
      "source": [
        "constraints[0].dual_value"
      ],
      "metadata": {
        "id": "eW1BdkoKiZsd"
      },
      "execution_count": 20,
      "outputs": []
    },
    {
      "cell_type": "code",
      "source": [],
      "metadata": {
        "id": "XYWk3xCkDHzt"
      },
      "execution_count": 20,
      "outputs": []
    }
  ],
  "metadata": {
    "kernelspec": {
      "display_name": "Python 3.8.10 64-bit",
      "language": "python",
      "name": "python3"
    },
    "language_info": {
      "codemirror_mode": {
        "name": "ipython",
        "version": 3
      },
      "file_extension": ".py",
      "mimetype": "text/x-python",
      "name": "python",
      "nbconvert_exporter": "python",
      "pygments_lexer": "ipython3",
      "version": "3.8.10"
    },
    "orig_nbformat": 4,
    "vscode": {
      "interpreter": {
        "hash": "7d9fbcc9d36fec826ec7ea63260f41bcb424332a9e727079e8172fbdc4352c28"
      }
    },
    "colab": {
      "provenance": []
    }
  },
  "nbformat": 4,
  "nbformat_minor": 0
}
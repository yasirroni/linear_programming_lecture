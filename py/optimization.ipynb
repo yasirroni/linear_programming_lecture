{
  "cells": [
    {
      "cell_type": "code",
      "execution_count": 1,
      "metadata": {
        "id": "a7Go30ZoLbWO"
      },
      "outputs": [],
      "source": [
        "import cvxpy as cp\n",
        "import numpy as np"
      ]
    },
    {
      "cell_type": "code",
      "execution_count": 2,
      "metadata": {
        "id": "yhKhB1oWLbWQ"
      },
      "outputs": [],
      "source": [
        "def check_solution(x, y, A, rhs):\n",
        "    for A_, rhs_ in zip(A, rhs):\n",
        "        if A_(x, y) > rhs_:\n",
        "            print(f\"Constraint is violated with value {A_(x, y)} > {rhs_}.\")\n",
        "        else:\n",
        "            print(f\"Constraint is satisfied with value {A_(x, y)} <= {rhs_}.\")"
      ]
    },
    {
      "cell_type": "markdown",
      "metadata": {
        "id": "FSoJr4eOLbWQ"
      },
      "source": [
        "# Linear Programming"
      ]
    },
    {
      "cell_type": "code",
      "execution_count": 3,
      "metadata": {
        "id": "8NLDLhKqcmpw"
      },
      "outputs": [],
      "source": [
        "# Define the decision variables\n",
        "x = cp.Variable(nonneg=True)  # x >= 0\n",
        "y = cp.Variable(nonneg=True)  # y >= 0"
      ]
    },
    {
      "cell_type": "code",
      "execution_count": 4,
      "metadata": {
        "id": "A-y9DM6Vcnlr"
      },
      "outputs": [],
      "source": [
        "# z = cp.Variable(5, nonneg=True)"
      ]
    },
    {
      "cell_type": "code",
      "execution_count": 5,
      "metadata": {
        "id": "ebcga1L1c2VE"
      },
      "outputs": [],
      "source": [
        "# 5*x, x**2, -cp.sqrt(x), x**2/x, cp.max(z), cp.mean(z)"
      ]
    },
    {
      "cell_type": "code",
      "execution_count": 6,
      "metadata": {
        "colab": {
          "base_uri": "https://localhost:8080/"
        },
        "id": "uLzBZ2onLbWQ",
        "outputId": "00e99d28-fd35-4c70-d176-512dcf9463bc"
      },
      "outputs": [
        {
          "name": "stdout",
          "output_type": "stream",
          "text": [
            "Optimal solution: x = 4.2857142829410995 , y = 7.142857144661429\n",
            "Optimal value: 264.2857142753577\n"
          ]
        }
      ],
      "source": [
        "# Define the decision variables\n",
        "x = cp.Variable(nonneg=True)  # x >= 0\n",
        "y = cp.Variable(nonneg=True)  # y >= 0\n",
        "\n",
        "# Define the objective function\n",
        "objective = cp.Maximize(20*x + 25*y)\n",
        "\n",
        "# Define the constraints\n",
        "constraints = [\n",
        "    2*x + 3*y <= 30,\n",
        "    3*x + 1*y <= 20,\n",
        "]\n",
        "\n",
        "# Define and solve the problem\n",
        "problem = cp.Problem(objective, constraints)\n",
        "problem.solve()\n",
        "\n",
        "# Print the optimal solution and optimal value\n",
        "print(\"Optimal solution: x =\", x.value, \", y =\", y.value)\n",
        "print(\"Optimal value:\", problem.value)"
      ]
    },
    {
      "cell_type": "code",
      "execution_count": 7,
      "metadata": {
        "colab": {
          "base_uri": "https://localhost:8080/"
        },
        "id": "WA7PIwFPLbWR",
        "outputId": "5f43ace3-c142-4fd8-dc48-97dfd447dce7"
      },
      "outputs": [
        {
          "name": "stdout",
          "output_type": "stream",
          "text": [
            "Constraint is satisfied with value 29.99999999986649 <= 30.\n",
            "Constraint is satisfied with value 19.999999993484728 <= 20.\n"
          ]
        }
      ],
      "source": [
        "# Define the constraints\n",
        "A = [\n",
        "    lambda x, y: 2*x + 3*y,\n",
        "    lambda x, y: 3*x + 1*y,\n",
        "]\n",
        "\n",
        "rhs = [\n",
        "    30,\n",
        "    20,\n",
        "]\n",
        "\n",
        "check_solution(x.value, y.value, A, rhs)"
      ]
    },
    {
      "cell_type": "code",
      "execution_count": 8,
      "metadata": {
        "colab": {
          "base_uri": "https://localhost:8080/"
        },
        "id": "NvadZNtVC-v1",
        "outputId": "0bb24fd2-7adc-4bc6-d45c-eadc35ba435e"
      },
      "outputs": [
        {
          "data": {
            "text/plain": [
              "(7.857142857545608, 1.4285714288297986)"
            ]
          },
          "execution_count": 8,
          "metadata": {},
          "output_type": "execute_result"
        }
      ],
      "source": [
        "constraints[0].dual_value, constraints[1].dual_value"
      ]
    },
    {
      "cell_type": "code",
      "execution_count": 9,
      "metadata": {
        "colab": {
          "base_uri": "https://localhost:8080/"
        },
        "id": "2m3ryepfDTDb",
        "outputId": "65ab568b-276b-4897-9df0-175fc3d6d12d"
      },
      "outputs": [
        {
          "data": {
            "text/plain": [
              "(np.float64(4.2857142829410995), np.float64(7.142857144661429))"
            ]
          },
          "execution_count": 9,
          "metadata": {},
          "output_type": "execute_result"
        }
      ],
      "source": [
        "x.value, y.value"
      ]
    },
    {
      "cell_type": "markdown",
      "metadata": {
        "id": "PtFd-ltmLbWR"
      },
      "source": [
        "# Integer Programming"
      ]
    },
    {
      "cell_type": "code",
      "execution_count": 10,
      "metadata": {
        "colab": {
          "base_uri": "https://localhost:8080/"
        },
        "id": "_JSKWx4MLbWR",
        "outputId": "1d8c13d7-1adb-4a5c-a881-95dfa620e810"
      },
      "outputs": [
        {
          "name": "stdout",
          "output_type": "stream",
          "text": [
            "Optimal solution: x = 3.0 , y = 8.0\n",
            "Optimal value: 260.0\n"
          ]
        }
      ],
      "source": [
        "# Define the decision variables\n",
        "x = cp.Variable(integer=True)\n",
        "y = cp.Variable(integer=True)\n",
        "\n",
        "# Define the objective function\n",
        "objective = cp.Maximize(20*x + 25*y)\n",
        "\n",
        "# Define the constraints\n",
        "constraints = [\n",
        "    2*x + 3*y <= 30,\n",
        "    3*x + 1*y <= 20,\n",
        "    x >= 0,  # x >= 0\n",
        "    y >= 0,  # y >= 0\n",
        "]\n",
        "\n",
        "# Define and solve the problem\n",
        "problem = cp.Problem(objective, constraints)\n",
        "problem.solve()\n",
        "\n",
        "# Print the optimal solution and optimal value\n",
        "print(\"Optimal solution: x =\", x.value, \", y =\", y.value)\n",
        "print(\"Optimal value:\", problem.value)"
      ]
    },
    {
      "cell_type": "code",
      "execution_count": 11,
      "metadata": {
        "colab": {
          "base_uri": "https://localhost:8080/"
        },
        "id": "wIqs2NQKLbWR",
        "outputId": "0971bb80-080d-4e5c-c95c-e394d9de9a6b"
      },
      "outputs": [
        {
          "name": "stdout",
          "output_type": "stream",
          "text": [
            "Constraint is satisfied with value 30.0 <= 30.\n",
            "Constraint is satisfied with value 17.0 <= 20.\n"
          ]
        }
      ],
      "source": [
        "# Define the constraints\n",
        "A = [\n",
        "    lambda x, y: 2*x + 3*y,\n",
        "    lambda x, y: 3*x + 1*y,\n",
        "]\n",
        "\n",
        "rhs = [\n",
        "    30,\n",
        "    20,\n",
        "]\n",
        "\n",
        "check_solution(x.value, y.value, A, rhs)"
      ]
    },
    {
      "cell_type": "code",
      "execution_count": 12,
      "metadata": {
        "colab": {
          "base_uri": "https://localhost:8080/"
        },
        "id": "gYbEkU10DEZ9",
        "outputId": "f5b5ba16-e753-4423-ac13-40ebc835af01"
      },
      "outputs": [
        {
          "data": {
            "text/plain": [
              "(None, None)"
            ]
          },
          "execution_count": 12,
          "metadata": {},
          "output_type": "execute_result"
        }
      ],
      "source": [
        "# NOTE: cvxpy can't return dual_value in MIP (integer)\n",
        "constraints[0].dual_value, constraints[1].dual_value"
      ]
    },
    {
      "cell_type": "code",
      "execution_count": 13,
      "metadata": {
        "colab": {
          "base_uri": "https://localhost:8080/"
        },
        "id": "ydUtNWnuDRBm",
        "outputId": "cf7cb21d-8ebb-4197-d3d1-d6180ed63b02"
      },
      "outputs": [
        {
          "data": {
            "text/plain": [
              "(array(3.), array(8.))"
            ]
          },
          "execution_count": 13,
          "metadata": {},
          "output_type": "execute_result"
        }
      ],
      "source": [
        "x.value, y.value"
      ]
    },
    {
      "cell_type": "markdown",
      "metadata": {
        "id": "705dp-p1Cqd2"
      },
      "source": [
        "# Vector Form"
      ]
    },
    {
      "cell_type": "code",
      "execution_count": 14,
      "metadata": {
        "colab": {
          "base_uri": "https://localhost:8080/"
        },
        "id": "6pw-kBOJg3tU",
        "outputId": "7535b637-d61c-443f-c008-de360e004df0"
      },
      "outputs": [
        {
          "data": {
            "text/plain": [
              "Variable((2, 1), var147, integer=True)"
            ]
          },
          "execution_count": 14,
          "metadata": {},
          "output_type": "execute_result"
        }
      ],
      "source": [
        "# Define the decision variables\n",
        "x = cp.Variable((2, 1), integer=True)\n",
        "x"
      ]
    },
    {
      "cell_type": "code",
      "execution_count": 15,
      "metadata": {
        "colab": {
          "base_uri": "https://localhost:8080/"
        },
        "id": "bJZOidMog_8t",
        "outputId": "04171eb8-f606-41b6-d241-d37e3728b8fe"
      },
      "outputs": [
        {
          "data": {
            "text/plain": [
              "(array([[20, 25]]), (1, 2))"
            ]
          },
          "execution_count": 15,
          "metadata": {},
          "output_type": "execute_result"
        }
      ],
      "source": [
        "c = np.array([[20, 25]])\n",
        "c, c.shape"
      ]
    },
    {
      "cell_type": "code",
      "execution_count": 16,
      "metadata": {
        "colab": {
          "base_uri": "https://localhost:8080/"
        },
        "id": "-Lnh9lNNhLp5",
        "outputId": "9028bc09-acc4-472a-b081-f2f105fa7f8d"
      },
      "outputs": [
        {
          "data": {
            "text/plain": [
              "Maximize(Expression(AFFINE, UNKNOWN, (1, 1)))"
            ]
          },
          "execution_count": 16,
          "metadata": {},
          "output_type": "execute_result"
        }
      ],
      "source": [
        "# Define the objective function\n",
        "objective = cp.Maximize(c @ x)\n",
        "objective"
      ]
    },
    {
      "cell_type": "code",
      "execution_count": 17,
      "metadata": {
        "colab": {
          "base_uri": "https://localhost:8080/"
        },
        "id": "p_BbDU1whjtW",
        "outputId": "d6819dd2-4649-41af-e826-358b4b0cb328"
      },
      "outputs": [
        {
          "data": {
            "text/plain": [
              "(Expression(AFFINE, UNKNOWN, (2, 1)),\n",
              " array([[30],\n",
              "        [20]]),\n",
              " Inequality(Expression(AFFINE, UNKNOWN, (2, 1))))"
            ]
          },
          "execution_count": 17,
          "metadata": {},
          "output_type": "execute_result"
        }
      ],
      "source": [
        "A = np.array([\n",
        "    [2, 3],\n",
        "    [3, 1],\n",
        "])\n",
        "b = np.array(\n",
        "    [\n",
        "        [30],\n",
        "        [20]\n",
        "    ]\n",
        ")\n",
        "A @ x, b, A @ x <= b"
      ]
    },
    {
      "cell_type": "code",
      "execution_count": 18,
      "metadata": {
        "colab": {
          "base_uri": "https://localhost:8080/"
        },
        "id": "bTpETw9_LbWS",
        "outputId": "90713d4c-f4a7-4a03-8d89-fe6fc1946942"
      },
      "outputs": [
        {
          "name": "stdout",
          "output_type": "stream",
          "text": [
            "Optimal solution: x = [[3.]\n",
            " [8.]] , y = 8.0\n",
            "Optimal value: 260.0\n"
          ]
        }
      ],
      "source": [
        "# Define the constraints\n",
        "constraints = [\n",
        "    A @ x <= b,\n",
        "    x >= 0,  # x >= 0\n",
        "]\n",
        "\n",
        "# Define and solve the problem\n",
        "problem = cp.Problem(objective, constraints)\n",
        "problem.solve()\n",
        "\n",
        "# Print the optimal solution and optimal value\n",
        "print(\"Optimal solution: x =\", x.value, \", y =\", y.value)\n",
        "print(\"Optimal value:\", problem.value)"
      ]
    },
    {
      "cell_type": "code",
      "execution_count": 19,
      "metadata": {
        "colab": {
          "base_uri": "https://localhost:8080/"
        },
        "id": "JWZ3q52kiLaz",
        "outputId": "ab7470a5-51d5-4e4d-f214-84a1101ab8a1"
      },
      "outputs": [
        {
          "data": {
            "text/plain": [
              "array([[3.],\n",
              "       [8.]])"
            ]
          },
          "execution_count": 19,
          "metadata": {},
          "output_type": "execute_result"
        }
      ],
      "source": [
        "x.value"
      ]
    },
    {
      "cell_type": "code",
      "execution_count": 20,
      "metadata": {
        "id": "eW1BdkoKiZsd"
      },
      "outputs": [],
      "source": [
        "constraints[0].dual_value"
      ]
    },
    {
      "cell_type": "code",
      "execution_count": 20,
      "metadata": {
        "id": "XYWk3xCkDHzt"
      },
      "outputs": [],
      "source": []
    }
  ],
  "metadata": {
    "colab": {
      "provenance": []
    },
    "kernelspec": {
      "display_name": "Python 3.8.10 64-bit",
      "language": "python",
      "name": "python3"
    },
    "language_info": {
      "codemirror_mode": {
        "name": "ipython",
        "version": 3
      },
      "file_extension": ".py",
      "mimetype": "text/x-python",
      "name": "python",
      "nbconvert_exporter": "python",
      "pygments_lexer": "ipython3",
      "version": "3.8.10"
    },
    "orig_nbformat": 4,
    "vscode": {
      "interpreter": {
        "hash": "7d9fbcc9d36fec826ec7ea63260f41bcb424332a9e727079e8172fbdc4352c28"
      }
    }
  },
  "nbformat": 4,
  "nbformat_minor": 0
}

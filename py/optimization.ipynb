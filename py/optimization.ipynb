{
 "cells": [
  {
   "cell_type": "code",
   "execution_count": 1,
   "metadata": {},
   "outputs": [],
   "source": [
    "import cvxpy as cp\n",
    "import numpy as np"
   ]
  },
  {
   "cell_type": "code",
   "execution_count": 2,
   "metadata": {},
   "outputs": [],
   "source": [
    "def check_solution(x, y, A, rhs):\n",
    "    for A_, rhs_ in zip(A, rhs):\n",
    "        if A_(x, y) > rhs_:\n",
    "            print(f\"Constraint is violated with value {A_(x, y)} > {rhs_}.\")\n",
    "        else:\n",
    "            print(f\"Constraint is satisfied with value {A_(x, y)} <= {rhs_}.\")"
   ]
  },
  {
   "cell_type": "markdown",
   "metadata": {},
   "source": [
    "# Linear Programming"
   ]
  },
  {
   "cell_type": "code",
   "execution_count": 3,
   "metadata": {},
   "outputs": [
    {
     "name": "stdout",
     "output_type": "stream",
     "text": [
      "Optimal solution: x = 4.2857141284411195 , y = 7.142857244712961\n",
      "Optimal value: 264.28571368664643\n"
     ]
    }
   ],
   "source": [
    "# Define the decision variables\n",
    "x = cp.Variable(nonneg=True)  # x >= 0\n",
    "y = cp.Variable(nonneg=True)  # y >= 0\n",
    "\n",
    "# Define the objective function\n",
    "objective = cp.Maximize(20*x + 25*y)\n",
    "\n",
    "# Define the constraints\n",
    "constraints = [\n",
    "    2*x + 3*y <= 30,\n",
    "    3*x + 1*y <= 20,\n",
    "]\n",
    "\n",
    "# Define and solve the problem\n",
    "problem = cp.Problem(objective, constraints)\n",
    "problem.solve()\n",
    "\n",
    "# Print the optimal solution and optimal value\n",
    "print(\"Optimal solution: x =\", x.value, \", y =\", y.value)\n",
    "print(\"Optimal value:\", problem.value)"
   ]
  },
  {
   "cell_type": "code",
   "execution_count": 4,
   "metadata": {},
   "outputs": [
    {
     "name": "stdout",
     "output_type": "stream",
     "text": [
      "Constraint is satisfied with value 29.999999991021124 <= 30.\n",
      "Constraint is satisfied with value 19.99999963003632 <= 20.\n"
     ]
    }
   ],
   "source": [
    "# Define the constraints\n",
    "A = [\n",
    "    lambda x, y: 2*x + 3*y,\n",
    "    lambda x, y: 3*x + 1*y,\n",
    "]\n",
    "\n",
    "rhs = [\n",
    "    30,\n",
    "    20,\n",
    "]\n",
    "\n",
    "check_solution(x.value, y.value, A, rhs)"
   ]
  },
  {
   "cell_type": "markdown",
   "metadata": {},
   "source": [
    "# Integer Programming"
   ]
  },
  {
   "cell_type": "code",
   "execution_count": 5,
   "metadata": {},
   "outputs": [
    {
     "name": "stdout",
     "output_type": "stream",
     "text": [
      "Optimal solution: x = 3.0 , y = 8.0\n",
      "Optimal value: 260.0\n"
     ]
    }
   ],
   "source": [
    "# Define the decision variables\n",
    "x = cp.Variable(integer=True)\n",
    "y = cp.Variable(integer=True)\n",
    "\n",
    "# Define the objective function\n",
    "objective = cp.Maximize(20*x + 25*y)\n",
    "\n",
    "# Define the constraints\n",
    "constraints = [\n",
    "    2*x + 3*y <= 30,\n",
    "    3*x + 1*y <= 20,\n",
    "    x >= 0,  # x >= 0\n",
    "    y >= 0,  # y >= 0\n",
    "]\n",
    "\n",
    "# Define and solve the problem\n",
    "problem = cp.Problem(objective, constraints)\n",
    "problem.solve()\n",
    "\n",
    "# Print the optimal solution and optimal value\n",
    "print(\"Optimal solution: x =\", x.value, \", y =\", y.value)\n",
    "print(\"Optimal value:\", problem.value)"
   ]
  },
  {
   "cell_type": "code",
   "execution_count": 6,
   "metadata": {},
   "outputs": [
    {
     "name": "stdout",
     "output_type": "stream",
     "text": [
      "Constraint is satisfied with value 30.0 <= 30.\n",
      "Constraint is satisfied with value 17.0 <= 20.\n"
     ]
    }
   ],
   "source": [
    "# Define the constraints\n",
    "A = [\n",
    "    lambda x, y: 2*x + 3*y,\n",
    "    lambda x, y: 3*x + 1*y,\n",
    "]\n",
    "\n",
    "rhs = [\n",
    "    30,\n",
    "    20,\n",
    "]\n",
    "\n",
    "check_solution(x.value, y.value, A, rhs)"
   ]
  },
  {
   "cell_type": "code",
   "execution_count": null,
   "metadata": {},
   "outputs": [],
   "source": []
  }
 ],
 "metadata": {
  "kernelspec": {
   "display_name": "Python 3.8.10 64-bit",
   "language": "python",
   "name": "python3"
  },
  "language_info": {
   "codemirror_mode": {
    "name": "ipython",
    "version": 3
   },
   "file_extension": ".py",
   "mimetype": "text/x-python",
   "name": "python",
   "nbconvert_exporter": "python",
   "pygments_lexer": "ipython3",
   "version": "3.8.10"
  },
  "orig_nbformat": 4,
  "vscode": {
   "interpreter": {
    "hash": "7d9fbcc9d36fec826ec7ea63260f41bcb424332a9e727079e8172fbdc4352c28"
   }
  }
 },
 "nbformat": 4,
 "nbformat_minor": 2
}
